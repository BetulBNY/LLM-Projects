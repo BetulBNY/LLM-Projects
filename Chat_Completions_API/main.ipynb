{
 "cells": [
  {
   "cell_type": "markdown",
   "id": "2efae5c2",
   "metadata": {},
   "source": [
    "### NOTE: Chat Completion is, you give some conversation and ask for predicting next one."
   ]
  },
  {
   "cell_type": "markdown",
   "id": "ee04d89e",
   "metadata": {},
   "source": [
    "#### 1) OpenAI API\n",
    "\n",
    "https://api.openai.com/v1/chat/completions\n",
    "This endpoint lets you create a chat completion using OpenAI's API.\n",
    "\n",
    "What is a Client Library?\n",
    "A client library is a Python package that wraps HTTP calls for an API."
   ]
  },
  {
   "cell_type": "code",
   "execution_count": 4,
   "id": "12fba459",
   "metadata": {},
   "outputs": [
    {
     "data": {
      "text/plain": [
       "'\\nimport sendgrid\\nsg = sendgrid.SendGridAPIClient(api_key)\\nsg.send(message)\\n'"
      ]
     },
     "execution_count": 4,
     "metadata": {},
     "output_type": "execute_result"
    }
   ],
   "source": [
    "# SAMPLE:\n",
    "# Instead of this \n",
    "\"\"\"\n",
    "import requests\n",
    "requests.post(\n",
    "    \"https://api.sendgrid.com/v3/mail/send\",\n",
    "    headers={...},\n",
    "    json={...}\n",
    ")\n",
    "\"\"\"\n",
    "# we do this:\n",
    "\"\"\"\n",
    "import sendgrid\n",
    "sg = sendgrid.SendGridAPIClient(api_key)\n",
    "sg.send(message)\n",
    "\"\"\""
   ]
  },
  {
   "cell_type": "code",
   "execution_count": 2,
   "id": "921b9aa2",
   "metadata": {},
   "outputs": [
    {
     "name": "stdout",
     "output_type": "stream",
     "text": [
      "API key found and looks good so far!\n"
     ]
    }
   ],
   "source": [
    "import os\n",
    "from dotenv import load_dotenv\n",
    "\n",
    "load_dotenv(override=True)\n",
    "api_key = os.getenv('OPENAI_API_KEY')\n",
    "\n",
    "if not api_key:\n",
    "    print(\"No API key was found - please head over to the troubleshooting notebook in this folder to identify & fix!\")\n",
    "elif not api_key.startswith(\"sk-proj-\"):\n",
    "    print(\"An API key was found, but it doesn't start sk-proj-; please check you're using the right key - see troubleshooting notebook\")\n",
    "else:\n",
    "    print(\"API key found and looks good so far!\")"
   ]
  },
  {
   "cell_type": "markdown",
   "id": "56bff8e7",
   "metadata": {},
   "source": [
    "#### Without OpenAi Library Package"
   ]
  },
  {
   "cell_type": "code",
   "execution_count": 33,
   "id": "5712999a",
   "metadata": {},
   "outputs": [
    {
     "data": {
      "text/plain": [
       "{'model': 'gpt-5-nano',\n",
       " 'messages': [{'role': 'user', 'content': 'Tell me a fun fact'}],\n",
       " 'n': 2}"
      ]
     },
     "execution_count": 33,
     "metadata": {},
     "output_type": "execute_result"
    }
   ],
   "source": [
    "import requests\n",
    "\n",
    "headers = {\"Authorization\": f\"Bearer {api_key}\", \"Content-Type\": \"application/json\"}\n",
    "\n",
    "payload = {\n",
    "    \"model\": \"gpt-5-nano\", # Tiny version of GPT 5 \n",
    "    \"messages\": [\n",
    "        {\"role\": \"user\", \"content\": \"Tell me a fun fact\"}],\n",
    "     \"n\":2   \n",
    "}\n",
    "\n",
    "payload"
   ]
  },
  {
   "cell_type": "markdown",
   "id": "35ce64dd",
   "metadata": {},
   "source": [
    "### Common additional **payload** parameters\n",
    "`payload` is the **JSON body** that will be sent to the API.\n",
    "It contains fields such as `model` and `messages`, which define **what the model should do** and **which conversation history** it should use.\n",
    "This Python dictionary is automatically converted to **JSON format** by the `requests` library and sent to the API.\n",
    "\n",
    "\n",
    "* **`temperature`** — controls output randomness (0–1+).\n",
    "\n",
    "  * `0` = more deterministic (consistent answers)\n",
    "  * `0.8` = more creative and varied responses\n",
    "\n",
    "* **`max_tokens`** — sets the maximum number of tokens (words/subwords) the model can generate.\n",
    "\n",
    "* **`top_p`** — nucleus sampling parameter (an alternative way to control randomness).\n",
    "\n",
    "* **`n`** — number of separate completions (responses) to generate.\n",
    "\n",
    "* **`stop`** — string or list of strings at which the model should stop generating text.\n",
    "\n",
    "* **`stream`** — if `true`, the API sends back the response gradually (token by token).\n",
    "\n",
    "* **`user`** — some APIs expect a user identifier for monitoring or abuse prevention purposes.\n"
   ]
  },
  {
   "cell_type": "code",
   "execution_count": 34,
   "id": "bb413fb4",
   "metadata": {},
   "outputs": [
    {
     "data": {
      "text/plain": [
       "{'id': 'chatcmpl-CUEyu9Kfxhu1csLyyFa3dFg59dniY',\n",
       " 'object': 'chat.completion',\n",
       " 'created': 1761323464,\n",
       " 'model': 'gpt-5-nano-2025-08-07',\n",
       " 'choices': [{'index': 0,\n",
       "   'message': {'role': 'assistant',\n",
       "    'content': 'Fun fact: There are more possible ways to shuffle a standard 52-card deck than there are atoms on Earth. (52! is about 8×10^67, which dwarfs the number of Earth atoms.)',\n",
       "    'refusal': None,\n",
       "    'annotations': []},\n",
       "   'finish_reason': 'stop'},\n",
       "  {'index': 1,\n",
       "   'message': {'role': 'assistant',\n",
       "    'content': 'Fun fact: Honey never spoils. Archaeologists have found edible honey in ancient Egyptian tombs more than 3,000 years old. Its long shelf life comes from its low water content, acidic pH, and natural enzymes that help preserve it. Want another fact? Tell me a category you like.',\n",
       "    'refusal': None,\n",
       "    'annotations': []},\n",
       "   'finish_reason': 'stop'}],\n",
       " 'usage': {'prompt_tokens': 11,\n",
       "  'completion_tokens': 1788,\n",
       "  'total_tokens': 1799,\n",
       "  'prompt_tokens_details': {'cached_tokens': 0, 'audio_tokens': 0},\n",
       "  'completion_tokens_details': {'reasoning_tokens': 1664,\n",
       "   'audio_tokens': 0,\n",
       "   'accepted_prediction_tokens': 0,\n",
       "   'rejected_prediction_tokens': 0}},\n",
       " 'service_tier': 'default',\n",
       " 'system_fingerprint': None}"
      ]
     },
     "execution_count": 34,
     "metadata": {},
     "output_type": "execute_result"
    }
   ],
   "source": [
    "response = requests.post(\n",
    "    \"https://api.openai.com/v1/chat/completions\",\n",
    "    headers=headers,\n",
    "    json=payload\n",
    ")\n",
    "\n",
    "response.json()"
   ]
  },
  {
   "cell_type": "code",
   "execution_count": 7,
   "id": "40579bb3",
   "metadata": {},
   "outputs": [
    {
     "data": {
      "text/plain": [
       "'Fun fact: Honey never really spoils. Archaeologists have found edible honey in ancient Egyptian tombs—thousands of years old—thanks to its low moisture and acidic pH, plus bees’ enzymes.'"
      ]
     },
     "execution_count": 7,
     "metadata": {},
     "output_type": "execute_result"
    }
   ],
   "source": [
    "response.json()[\"choices\"][0][\"message\"][\"content\"]"
   ]
  },
  {
   "cell_type": "markdown",
   "id": "97069a67",
   "metadata": {},
   "source": [
    "#### With OpenAi Library Package (Python Client Library)\n",
    "\n",
    "In this part, we are now using OpenAI’s official Python SDK instead of requests.\n",
    "This SDK automatically handles the JSON sending process that we previously did manually with requests.\n",
    "\n",
    "\n",
    "GPT-5 Nano Info: https://platform.openai.com/docs/models/gpt-5-nano"
   ]
  },
  {
   "cell_type": "code",
   "execution_count": 18,
   "id": "05e5f8ac",
   "metadata": {},
   "outputs": [
    {
     "data": {
      "text/plain": [
       "'Fun fact: Honey never spoils—archaeologists have found edible honey in 3,000-year-old Egyptian tombs. Want another one? Tell me a topic you like (space, animals, history, etc.).'"
      ]
     },
     "execution_count": 18,
     "metadata": {},
     "output_type": "execute_result"
    }
   ],
   "source": [
    "from openai import OpenAI # This line creates an OpenAI client. The SDK automatically converts these parameters into JSON and sends them to the API.\n",
    "openai = OpenAI()\n",
    "\n",
    "response = openai.chat.completions.create(model=\"gpt-5-nano\", messages=[{\"role\": \"user\", \"content\": \"Tell me a fun fact\"}])\n",
    "\n",
    "response.choices[0].message.content\n"
   ]
  },
  {
   "cell_type": "code",
   "execution_count": null,
   "id": "6a37bf57",
   "metadata": {},
   "outputs": [
    {
     "name": "stdout",
     "output_type": "stream",
     "text": [
      "Response 1:\n",
      "Fun fact: Wombat poop is cube-shaped, not round. It helps the poop stack and not roll away, basically nature’s own Lego blocks. Talk about a “block party” in the outback. Want another fun fact?\n",
      "--------------------------------------------------\n",
      "Response 2:\n",
      "Fun fact: A group of flamingos is called a flamboyance. Which is perfect, because they look like a fancy pink fan club living their best glamorous life on one leg.\n",
      "--------------------------------------------------\n",
      "Response 3:\n",
      "Fun fact: A group of flamingos is called a flamboyance. So when you see a bunch of pink birds striking poses on one leg, you’re witnessing a stylish little flamboyance—the animal kingdom’s version of a runway.\n",
      "--------------------------------------------------\n",
      "Response 4:\n",
      "Fun fact: Wombat poop is cube-shaped, not round. They poop little bricks that don’t roll away, basically nature’s tiny building blocks. Science-y reason: their slow digestion and how moisture is absorbed gives the cube shape. Nature’s own bricklaying project!\n",
      "--------------------------------------------------\n"
     ]
    }
   ],
   "source": [
    "response = openai.chat.completions.create(\n",
    "    model=\"gpt-5-nano\",\n",
    "    messages=[\n",
    "        {\"role\": \"system\", \"content\": \"You are a funny assistant.\"},\n",
    "        {\"role\": \"user\", \"content\": \"Tell me a fun fact\"}\n",
    "    ],\n",
    "    top_p=1,              # nucleus sampling\n",
    "    n=4,                  # number of responses to generate\n",
    "    stream=False,         # True = stream output\n",
    "    stop=None,            # stop sequences\n",
    "    user=\"betul_yildirim\" # optional: user id for tracking\n",
    ")\n",
    "\n",
    "\n",
    "for i, choice in enumerate(response.choices):\n",
    "    print(f\"Response {i+1}:\")\n",
    "    print(choice.message.content)\n",
    "    print(\"-\" * 50)"
   ]
  },
  {
   "cell_type": "markdown",
   "id": "9f878203",
   "metadata": {},
   "source": []
  },
  {
   "cell_type": "code",
   "execution_count": 37,
   "id": "4ff5e3a1",
   "metadata": {},
   "outputs": [
    {
     "name": "stdout",
     "output_type": "stream",
     "text": [
      "No API key was found - please head over to the troubleshooting notebook in this folder to identify & fix!\n"
     ]
    }
   ],
   "source": [
    "GEMINI_BASE_URL = \"https://generativelanguage.googleapis.com/v1beta/openai/\"\n",
    "\n",
    "google_api_key = os.getenv(\"GOOGLE_API_KEY\")\n",
    "\n",
    "if not google_api_key:\n",
    "    print(\"No API key was found - please head over to the troubleshooting notebook in this folder to identify & fix!\")\n",
    "elif not google_api_key.startswith(\"AIz\"):\n",
    "    print(\"An API key was found, but it doesn't start AIz\")\n",
    "else:\n",
    "    print(\"API key found and looks good so far!\")\n",
    "\n"
   ]
  }
 ],
 "metadata": {
  "kernelspec": {
   "display_name": "bny",
   "language": "python",
   "name": "python3"
  },
  "language_info": {
   "codemirror_mode": {
    "name": "ipython",
    "version": 3
   },
   "file_extension": ".py",
   "mimetype": "text/x-python",
   "name": "python",
   "nbconvert_exporter": "python",
   "pygments_lexer": "ipython3",
   "version": "3.12.12"
  }
 },
 "nbformat": 4,
 "nbformat_minor": 5
}
